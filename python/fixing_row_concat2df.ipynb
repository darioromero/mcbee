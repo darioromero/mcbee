{
 "cells": [
  {
   "cell_type": "code",
   "execution_count": 43,
   "metadata": {},
   "outputs": [],
   "source": [
    "import pandas as pd"
   ]
  },
  {
   "cell_type": "code",
   "execution_count": 101,
   "metadata": {},
   "outputs": [],
   "source": [
    "col_names = ['Well', 'Date', 'Gas - Mcf', 'Cond. - bpd', 'Water - bpd', \n",
    "             'Comment1', 'Comment2', 'Comment3', 'Artif Lift']\n",
    "xl_wells = pd.DataFrame(columns=col_names)"
   ]
  },
  {
   "cell_type": "code",
   "execution_count": 102,
   "metadata": {},
   "outputs": [
    {
     "data": {
      "text/html": [
       "<div>\n",
       "<style scoped>\n",
       "    .dataframe tbody tr th:only-of-type {\n",
       "        vertical-align: middle;\n",
       "    }\n",
       "\n",
       "    .dataframe tbody tr th {\n",
       "        vertical-align: top;\n",
       "    }\n",
       "\n",
       "    .dataframe thead th {\n",
       "        text-align: right;\n",
       "    }\n",
       "</style>\n",
       "<table border=\"1\" class=\"dataframe\">\n",
       "  <thead>\n",
       "    <tr style=\"text-align: right;\">\n",
       "      <th></th>\n",
       "      <th>Well</th>\n",
       "      <th>Date</th>\n",
       "      <th>Gas - Mcf</th>\n",
       "      <th>Cond. - bpd</th>\n",
       "      <th>Water - bpd</th>\n",
       "      <th>Comment1</th>\n",
       "      <th>Comment2</th>\n",
       "      <th>Comment3</th>\n",
       "      <th>Artif Lift</th>\n",
       "    </tr>\n",
       "  </thead>\n",
       "  <tbody>\n",
       "  </tbody>\n",
       "</table>\n",
       "</div>"
      ],
      "text/plain": [
       "Empty DataFrame\n",
       "Columns: [Well, Date, Gas - Mcf, Cond. - bpd, Water - bpd, Comment1, Comment2, Comment3, Artif Lift]\n",
       "Index: []"
      ]
     },
     "execution_count": 102,
     "metadata": {},
     "output_type": "execute_result"
    }
   ],
   "source": [
    "xl_wells.head()"
   ]
  },
  {
   "cell_type": "code",
   "execution_count": 103,
   "metadata": {},
   "outputs": [
    {
     "data": {
      "text/plain": [
       "(0, 9)"
      ]
     },
     "execution_count": 103,
     "metadata": {},
     "output_type": "execute_result"
    }
   ],
   "source": [
    "xl_wells.shape"
   ]
  },
  {
   "cell_type": "code",
   "execution_count": 104,
   "metadata": {},
   "outputs": [],
   "source": [
    "new_row = {'Well': 1,\n",
    " 'Artif Lift': 'gaslift',\n",
    " 'Date': '12/1/2019',\n",
    " 'Gas - Mcf': 12,\n",
    " 'Cond. - bpd': 12,\n",
    " 'Water - bpd': 17,\n",
    " 'Comment1': 'nada',\n",
    " 'Comment2': 'nada2',\n",
    " 'Comment3': 'nada3'}"
   ]
  },
  {
   "cell_type": "code",
   "execution_count": 105,
   "metadata": {},
   "outputs": [
    {
     "data": {
      "text/plain": [
       "{'Well': 1,\n",
       " 'Artif Lift': 'gaslift',\n",
       " 'Date': '12/1/2019',\n",
       " 'Gas - Mcf': 12,\n",
       " 'Cond. - bpd': 12,\n",
       " 'Water - bpd': 17,\n",
       " 'Comment1': 'nada',\n",
       " 'Comment2': 'nada2',\n",
       " 'Comment3': 'nada3'}"
      ]
     },
     "execution_count": 105,
     "metadata": {},
     "output_type": "execute_result"
    }
   ],
   "source": [
    "new_row"
   ]
  },
  {
   "cell_type": "code",
   "execution_count": 106,
   "metadata": {},
   "outputs": [],
   "source": [
    "rows = []\n",
    "rows.append(new_row)"
   ]
  },
  {
   "cell_type": "code",
   "execution_count": 107,
   "metadata": {},
   "outputs": [
    {
     "data": {
      "text/plain": [
       "[{'Well': 1,\n",
       "  'Artif Lift': 'gaslift',\n",
       "  'Date': '12/1/2019',\n",
       "  'Gas - Mcf': 12,\n",
       "  'Cond. - bpd': 12,\n",
       "  'Water - bpd': 17,\n",
       "  'Comment1': 'nada',\n",
       "  'Comment2': 'nada2',\n",
       "  'Comment3': 'nada3'}]"
      ]
     },
     "execution_count": 107,
     "metadata": {},
     "output_type": "execute_result"
    }
   ],
   "source": [
    "rows"
   ]
  },
  {
   "cell_type": "code",
   "execution_count": 112,
   "metadata": {},
   "outputs": [
    {
     "data": {
      "text/html": [
       "<div>\n",
       "<style scoped>\n",
       "    .dataframe tbody tr th:only-of-type {\n",
       "        vertical-align: middle;\n",
       "    }\n",
       "\n",
       "    .dataframe tbody tr th {\n",
       "        vertical-align: top;\n",
       "    }\n",
       "\n",
       "    .dataframe thead th {\n",
       "        text-align: right;\n",
       "    }\n",
       "</style>\n",
       "<table border=\"1\" class=\"dataframe\">\n",
       "  <thead>\n",
       "    <tr style=\"text-align: right;\">\n",
       "      <th></th>\n",
       "      <th>Artif Lift</th>\n",
       "      <th>Comment1</th>\n",
       "      <th>Comment2</th>\n",
       "      <th>Comment3</th>\n",
       "      <th>Cond. - bpd</th>\n",
       "      <th>Date</th>\n",
       "      <th>Gas - Mcf</th>\n",
       "      <th>Water - bpd</th>\n",
       "      <th>Well</th>\n",
       "    </tr>\n",
       "  </thead>\n",
       "  <tbody>\n",
       "    <tr>\n",
       "      <th>0</th>\n",
       "      <td>gaslift</td>\n",
       "      <td>nada</td>\n",
       "      <td>nada2</td>\n",
       "      <td>nada3</td>\n",
       "      <td>12</td>\n",
       "      <td>12/1/2019</td>\n",
       "      <td>12</td>\n",
       "      <td>17</td>\n",
       "      <td>1</td>\n",
       "    </tr>\n",
       "    <tr>\n",
       "      <th>1</th>\n",
       "      <td>gaslift</td>\n",
       "      <td>nada</td>\n",
       "      <td>nada2</td>\n",
       "      <td>nada3</td>\n",
       "      <td>12</td>\n",
       "      <td>12/1/2019</td>\n",
       "      <td>12</td>\n",
       "      <td>17</td>\n",
       "      <td>1</td>\n",
       "    </tr>\n",
       "    <tr>\n",
       "      <th>2</th>\n",
       "      <td>gaslift</td>\n",
       "      <td>nada</td>\n",
       "      <td>nada2</td>\n",
       "      <td>nada3</td>\n",
       "      <td>12</td>\n",
       "      <td>12/1/2019</td>\n",
       "      <td>12</td>\n",
       "      <td>17</td>\n",
       "      <td>1</td>\n",
       "    </tr>\n",
       "    <tr>\n",
       "      <th>3</th>\n",
       "      <td>gaslift</td>\n",
       "      <td>nada</td>\n",
       "      <td>nada2</td>\n",
       "      <td>nada3</td>\n",
       "      <td>12</td>\n",
       "      <td>12/1/2019</td>\n",
       "      <td>12</td>\n",
       "      <td>17</td>\n",
       "      <td>1</td>\n",
       "    </tr>\n",
       "  </tbody>\n",
       "</table>\n",
       "</div>"
      ],
      "text/plain": [
       "  Artif Lift Comment1 Comment2 Comment3 Cond. - bpd       Date Gas - Mcf  \\\n",
       "0    gaslift     nada    nada2    nada3          12  12/1/2019        12   \n",
       "1    gaslift     nada    nada2    nada3          12  12/1/2019        12   \n",
       "2    gaslift     nada    nada2    nada3          12  12/1/2019        12   \n",
       "3    gaslift     nada    nada2    nada3          12  12/1/2019        12   \n",
       "\n",
       "  Water - bpd Well  \n",
       "0          17    1  \n",
       "1          17    1  \n",
       "2          17    1  \n",
       "3          17    1  "
      ]
     },
     "execution_count": 112,
     "metadata": {},
     "output_type": "execute_result"
    }
   ],
   "source": [
    "xl_wells = pd.concat([pd.DataFrame.from_dict(rows, orient='columns'), xl_wells], axis=0, sort=False).reset_index(drop=True)\n",
    "xl_wells.head()"
   ]
  },
  {
   "cell_type": "code",
   "execution_count": 110,
   "metadata": {},
   "outputs": [
    {
     "data": {
      "text/html": [
       "<div>\n",
       "<style scoped>\n",
       "    .dataframe tbody tr th:only-of-type {\n",
       "        vertical-align: middle;\n",
       "    }\n",
       "\n",
       "    .dataframe tbody tr th {\n",
       "        vertical-align: top;\n",
       "    }\n",
       "\n",
       "    .dataframe thead th {\n",
       "        text-align: right;\n",
       "    }\n",
       "</style>\n",
       "<table border=\"1\" class=\"dataframe\">\n",
       "  <thead>\n",
       "    <tr style=\"text-align: right;\">\n",
       "      <th></th>\n",
       "      <th>Artif Lift</th>\n",
       "      <th>Comment1</th>\n",
       "      <th>Comment2</th>\n",
       "      <th>Comment3</th>\n",
       "      <th>Cond. - bpd</th>\n",
       "      <th>Date</th>\n",
       "      <th>Gas - Mcf</th>\n",
       "      <th>Water - bpd</th>\n",
       "      <th>Well</th>\n",
       "    </tr>\n",
       "  </thead>\n",
       "  <tbody>\n",
       "    <tr>\n",
       "      <th>0</th>\n",
       "      <td>gaslift</td>\n",
       "      <td>nada</td>\n",
       "      <td>nada2</td>\n",
       "      <td>nada3</td>\n",
       "      <td>12</td>\n",
       "      <td>12/1/2019</td>\n",
       "      <td>12</td>\n",
       "      <td>17</td>\n",
       "      <td>1</td>\n",
       "    </tr>\n",
       "    <tr>\n",
       "      <th>1</th>\n",
       "      <td>gaslift</td>\n",
       "      <td>nada</td>\n",
       "      <td>nada2</td>\n",
       "      <td>nada3</td>\n",
       "      <td>12</td>\n",
       "      <td>12/1/2019</td>\n",
       "      <td>12</td>\n",
       "      <td>17</td>\n",
       "      <td>1</td>\n",
       "    </tr>\n",
       "  </tbody>\n",
       "</table>\n",
       "</div>"
      ],
      "text/plain": [
       "  Artif Lift Comment1 Comment2 Comment3 Cond. - bpd       Date Gas - Mcf  \\\n",
       "0    gaslift     nada    nada2    nada3          12  12/1/2019        12   \n",
       "1    gaslift     nada    nada2    nada3          12  12/1/2019        12   \n",
       "\n",
       "  Water - bpd Well  \n",
       "0          17    1  \n",
       "1          17    1  "
      ]
     },
     "execution_count": 110,
     "metadata": {},
     "output_type": "execute_result"
    }
   ],
   "source": [
    "xl_wells"
   ]
  },
  {
   "cell_type": "code",
   "execution_count": null,
   "metadata": {},
   "outputs": [],
   "source": []
  },
  {
   "cell_type": "code",
   "execution_count": null,
   "metadata": {},
   "outputs": [],
   "source": []
  },
  {
   "cell_type": "code",
   "execution_count": null,
   "metadata": {},
   "outputs": [],
   "source": []
  }
 ],
 "metadata": {
  "kernelspec": {
   "display_name": "Python [conda env:root] *",
   "language": "python",
   "name": "conda-root-py"
  },
  "language_info": {
   "codemirror_mode": {
    "name": "ipython",
    "version": 3
   },
   "file_extension": ".py",
   "mimetype": "text/x-python",
   "name": "python",
   "nbconvert_exporter": "python",
   "pygments_lexer": "ipython3",
   "version": "3.7.3"
  }
 },
 "nbformat": 4,
 "nbformat_minor": 2
}
